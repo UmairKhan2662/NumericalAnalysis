{
  "nbformat": 4,
  "nbformat_minor": 0,
  "metadata": {
    "colab": {
      "name": "9348-MuhammadAzibAli-LabTask4.ipynb",
      "provenance": [],
      "collapsed_sections": []
    },
    "kernelspec": {
      "name": "python3",
      "display_name": "Python 3"
    }
  },
  "cells": [
    {
      "cell_type": "markdown",
      "metadata": {
        "id": "bSfU2eipeWu_"
      },
      "source": [
        "# Name= Muhammad Umair\n",
        "# Student ID=  7791\n",
        "# Class ID= 105032"
      ]
    },
    {
      "cell_type": "code",
      "execution_count": null,
      "metadata": {},
      "outputs": [],
      "source": [
        "#<center>TASK 04</center>"
      ]
    },
    {
      "cell_type": "code",
      "execution_count": null,
      "metadata": {},
      "outputs": [
        {
          "output_type": "error",
          "ename": "Error",
          "evalue": "Error",
          "traceback": []
        }
      ],
      "source": []
    },
    {
      "cell_type": "markdown",
      "metadata": {
        "id": "rTbZ1EoGrxV9"
      },
      "source": [
        "# **Equation: f(x)= x^3 + x^2 + 2**"
      ]
    },
    {
      "cell_type": "code",
      "metadata": {
        "id": "PA2rd41neGQR"
      },
      "source": [
        "import numpy as np\n",
        "from scipy.misc import derivative\n",
        "import matplotlib.pyplot as plt\n"
      ],
      "execution_count": 123,
      "outputs": []
    },
    {
      "cell_type": "code",
      "metadata": {
        "id": "KcMgZwsDgb_H"
      },
      "source": [
        "def f(x):\n",
        "  return x**3 + x**2 + 2"
      ],
      "execution_count": 124,
      "outputs": []
    },
    {
      "cell_type": "code",
      "metadata": {
        "id": "QpBNVPhdfgFl"
      },
      "source": [
        "def NewtonRaphson(x): \n",
        "    h = f(x) / derivative(f , x) \n",
        "    count = 1\n",
        "\n",
        "    while np.abs(h)>= 0.0001:\n",
        "       h = f(x) / derivative(f , x)\n",
        "       x = x - h\n",
        "       count+=1\n",
        "\n",
        "    return x,count       "
      ],
      "execution_count": 125,
      "outputs": []
    },
    {
      "cell_type": "code",
      "metadata": {
        "id": "R8hjs3gGm4ac"
      },
      "source": [
        "root,itr = NewtonRaphson(4)"
      ],
      "execution_count": 126,
      "outputs": []
    },
    {
      "cell_type": "code",
      "metadata": {
        "id": "6hF-JMJVnF8m",
        "outputId": "d3f343ea-c511-4e7c-c7ab-428e79244a6f",
        "colab": {
          "base_uri": "https://localhost:8080/",
          "height": 34
        }
      },
      "source": [
        "print(itr,\" \", root)"
      ],
      "execution_count": 127,
      "outputs": [
        {
          "output_type": "stream",
          "text": [
            "12   -1.6956277333425684\n"
          ],
          "name": "stdout"
        }
      ]
    },
    {
      "cell_type": "code",
      "metadata": {
        "id": "rVNJ9WjSn-eE"
      },
      "source": [
        "x = np.linspace(-5, 5)\n"
      ],
      "execution_count": 128,
      "outputs": []
    },
    {
      "cell_type": "code",
      "metadata": {
        "id": "vmwq4nUtn-8f",
        "outputId": "e0d90dc8-e50c-4d46-e43f-18968f9f3283",
        "colab": {
          "base_uri": "https://localhost:8080/",
          "height": 312
        }
      },
      "source": [
        "plt.grid()\n",
        "plt.title(\"NEWTON RAPHSON METHOD\")\n",
        "plt.xlabel(\"x-axis\")\n",
        "plt.ylabel(\"y-axis\")\n",
        "plt.scatter(root, f(root), color='black')\n",
        "\n",
        "plt.plot(x, f(x), label='f(x)')\n",
        "plt.plot(x, 0*f(x), label='x')\n",
        "plt.legend()\n",
        "plt.show"
      ],
      "execution_count": 129,
      "outputs": [
        {
          "output_type": "execute_result",
          "data": {
            "text/plain": [
              "<function matplotlib.pyplot.show>"
            ]
          },
          "metadata": {
            "tags": []
          },
          "execution_count": 129
        },
        {
          "output_type": "display_data",
          "data": {
            "image/png": "[encoded data removed]",
            "text/plain": [
              "<Figure size 432x288 with 1 Axes>"
            ]
          },
          "metadata": {
            "tags": [],
            "needs_background": "light"
          }
        }
      ]
    },
    {
      "cell_type": "code",
      "execution_count": null,
      "metadata": {},
      "outputs": [],
      "source": []
    }
  ]
}
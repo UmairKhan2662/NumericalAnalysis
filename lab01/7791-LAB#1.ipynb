{
 "cells": [
  {
   "cell_type": "markdown",
   "metadata": {},
   "source": [
    "# Name= Muhammad Umair Khan\n",
    "# Student ID=  7791\n",
    "# Class ID= 105032\n"
   ]
  },
  {
   "cell_type": "markdown",
   "metadata": {},
   "source": [
    "# <center>PYTHON BASICS</center>"
   ]
  },
  {
   "cell_type": "markdown",
   "metadata": {},
   "source": [
    "# Input Output"
   ]
  },
  {
   "cell_type": "code",
   "execution_count": 7,
   "metadata": {},
   "outputs": [
    {
     "name": "stdout",
     "output_type": "stream",
     "text": [
      "Enter your name Muhammad Umair\n"
     ]
    }
   ],
   "source": [
    "name=input('Enter your name: ')"
   ]
  },
  {
   "cell_type": "code",
   "execution_count": 2,
   "metadata": {},
   "outputs": [
    {
     "name": "stdout",
     "output_type": "stream",
     "text": [
      "Enter your age: 22\n"
     ]
    }
   ],
   "source": [
    "age=eval(input('Enter your age: '))"
   ]
  },
  {
   "cell_type": "code",
   "execution_count": 3,
   "metadata": {},
   "outputs": [
    {
     "name": "stdout",
     "output_type": "stream",
     "text": [
      "enter your id: 7791\n"
     ]
    }
   ],
   "source": [
    "Student_ID=eval(input('enter your id: '))"
   ]
  },
  {
   "cell_type": "markdown",
   "metadata": {},
   "source": [
    "# Arthimatics operators"
   ]
  },
  {
   "cell_type": "code",
   "execution_count": 1,
   "metadata": {},
   "outputs": [
    {
     "data": {
      "text/plain": [
       "60"
      ]
     },
     "execution_count": 1,
     "metadata": {},
     "output_type": "execute_result"
    }
   ],
   "source": [
    "6*10"
   ]
  },
  {
   "cell_type": "code",
   "execution_count": 2,
   "metadata": {},
   "outputs": [
    {
     "data": {
      "text/plain": [
       "102"
      ]
     },
     "execution_count": 2,
     "metadata": {},
     "output_type": "execute_result"
    }
   ],
   "source": [
    "5+102-5"
   ]
  },
  {
   "cell_type": "code",
   "execution_count": 5,
   "metadata": {},
   "outputs": [
    {
     "name": "stdout",
     "output_type": "stream",
     "text": [
      "Enter a value: 5\n",
      "Square is  25\n"
     ]
    }
   ],
   "source": [
    "value = int(input('Enter a value: '))\n",
    "square = value * value\n",
    "print('Square is ', square)"
   ]
  },
  {
   "cell_type": "code",
   "execution_count": 4,
   "metadata": {},
   "outputs": [
    {
     "name": "stdout",
     "output_type": "stream",
     "text": [
      "Enter x 2\n",
      " The value of X is  12\n"
     ]
    }
   ],
   "source": [
    "x = int(input('Enter x '))\n",
    "result = x**2 + x**3\n",
    "print('The value of X is ', result)"
   ]
  },
  {
   "cell_type": "markdown",
   "metadata": {},
   "source": [
    "# Relational Operators"
   ]
  },
  {
   "cell_type": "code",
   "execution_count": 3,
   "metadata": {},
   "outputs": [
    {
     "data": {
      "text/plain": [
       "True"
      ]
     },
     "execution_count": 3,
     "metadata": {},
     "output_type": "execute_result"
    }
   ],
   "source": [
    "a=10\n",
    "b=2\n",
    "a>b"
   ]
  },
  {
   "cell_type": "markdown",
   "metadata": {},
   "source": [
    "# IF-ELSE (CONDITIONAL STATEMENT)"
   ]
  },
  {
   "cell_type": "code",
   "execution_count": 5,
   "metadata": {},
   "outputs": [
    {
     "name": "stdout",
     "output_type": "stream",
     "text": [
      "10  is greater\n"
     ]
    }
   ],
   "source": [
    "a=10\n",
    "b=2\n",
    "if a>b:\n",
    "    print(a,' is greater')\n",
    "else:\n",
    "    print(b,' is greater')"
   ]
  },
  {
   "cell_type": "markdown",
   "metadata": {},
   "source": [
    "# Example Question"
   ]
  },
  {
   "cell_type": "code",
   "execution_count": 3,
   "metadata": {},
   "outputs": [
    {
     "name": "stdout",
     "output_type": "stream",
     "text": [
      "Enter temperature: 50\n",
      "Liguid state\n",
      "----------------\n",
      "GoodBye\n"
     ]
    }
   ],
   "source": [
    "temp= eval(input('Enter temperature: '))\n",
    "if temp>100:\n",
    "    print('gas state')\n",
    "elif temp<0:\n",
    "    print('Solid state')\n",
    "else:\n",
    "    print('Liguid state')\n",
    "    \n",
    "print('----------------')\n",
    "print('GoodBye')"
   ]
  },
  {
   "cell_type": "markdown",
   "metadata": {},
   "source": [
    "# LOOPS"
   ]
  },
  {
   "cell_type": "code",
   "execution_count": 4,
   "metadata": {},
   "outputs": [
    {
     "name": "stdout",
     "output_type": "stream",
     "text": [
      "1 2 3 4 5 6 7 8 9 10 "
     ]
    }
   ],
   "source": [
    "# print first 10 number\n",
    "for i in range(1,11):\n",
    "    print(i, end=\" \")"
   ]
  },
  {
   "cell_type": "code",
   "execution_count": 5,
   "metadata": {},
   "outputs": [
    {
     "name": "stdout",
     "output_type": "stream",
     "text": [
      "2  4  6  8  10  12  14  16  18  20  "
     ]
    }
   ],
   "source": [
    "for i in range(2,21,2):\n",
    "    print(i, end=\"  \")"
   ]
  },
  {
   "cell_type": "code",
   "execution_count": 1,
   "metadata": {},
   "outputs": [
    {
     "name": "stdout",
     "output_type": "stream",
     "text": [
      "1\n",
      "2\n",
      "3\n",
      "4\n",
      "5\n",
      "6\n",
      "7\n",
      "8\n",
      "9\n",
      "10\n"
     ]
    }
   ],
   "source": [
    "j=1\n",
    "while j<11:\n",
    "    print(j)\n",
    "    j=j+1\n",
    "    \n"
   ]
  },
  {
   "cell_type": "code",
   "execution_count": 5,
   "metadata": {},
   "outputs": [
    {
     "name": "stdout",
     "output_type": "stream",
     "text": [
      "1 X 1  =  1\n",
      "1 X 2  =  2\n",
      "1 X 3  =  3\n",
      "1 X 4  =  4\n",
      "1 X 5  =  5\n",
      "1 X 6  =  6\n",
      "1 X 7  =  7\n",
      "1 X 8  =  8\n",
      "1 X 9  =  9\n",
      "1 X 10  =  10\n",
      "2 X 1  =  2\n",
      "2 X 2  =  4\n",
      "2 X 3  =  6\n",
      "2 X 4  =  8\n",
      "2 X 5  =  10\n",
      "2 X 6  =  12\n",
      "2 X 7  =  14\n",
      "2 X 8  =  16\n",
      "2 X 9  =  18\n",
      "2 X 10  =  20\n",
      "3 X 1  =  3\n",
      "3 X 2  =  6\n",
      "3 X 3  =  9\n",
      "3 X 4  =  12\n",
      "3 X 5  =  15\n",
      "3 X 6  =  18\n",
      "3 X 7  =  21\n",
      "3 X 8  =  24\n",
      "3 X 9  =  27\n",
      "3 X 10  =  30\n",
      "4 X 1  =  4\n",
      "4 X 2  =  8\n",
      "4 X 3  =  12\n",
      "4 X 4  =  16\n",
      "4 X 5  =  20\n",
      "4 X 6  =  24\n",
      "4 X 7  =  28\n",
      "4 X 8  =  32\n",
      "4 X 9  =  36\n",
      "4 X 10  =  40\n",
      "5 X 1  =  5\n",
      "5 X 2  =  10\n",
      "5 X 3  =  15\n",
      "5 X 4  =  20\n",
      "5 X 5  =  25\n",
      "5 X 6  =  30\n",
      "5 X 7  =  35\n",
      "5 X 8  =  40\n",
      "5 X 9  =  45\n",
      "5 X 10  =  50\n",
      "6 X 1  =  6\n",
      "6 X 2  =  12\n",
      "6 X 3  =  18\n",
      "6 X 4  =  24\n",
      "6 X 5  =  30\n",
      "6 X 6  =  36\n",
      "6 X 7  =  42\n",
      "6 X 8  =  48\n",
      "6 X 9  =  54\n",
      "6 X 10  =  60\n",
      "7 X 1  =  7\n",
      "7 X 2  =  14\n",
      "7 X 3  =  21\n",
      "7 X 4  =  28\n",
      "7 X 5  =  35\n",
      "7 X 6  =  42\n",
      "7 X 7  =  49\n",
      "7 X 8  =  56\n",
      "7 X 9  =  63\n",
      "7 X 10  =  70\n",
      "8 X 1  =  8\n",
      "8 X 2  =  16\n",
      "8 X 3  =  24\n",
      "8 X 4  =  32\n",
      "8 X 5  =  40\n",
      "8 X 6  =  48\n",
      "8 X 7  =  56\n",
      "8 X 8  =  64\n",
      "8 X 9  =  72\n",
      "8 X 10  =  80\n",
      "9 X 1  =  9\n",
      "9 X 2  =  18\n",
      "9 X 3  =  27\n",
      "9 X 4  =  36\n",
      "9 X 5  =  45\n",
      "9 X 6  =  54\n",
      "9 X 7  =  63\n",
      "9 X 8  =  72\n",
      "9 X 9  =  81\n",
      "9 X 10  =  90\n",
      "10 X 1  =  10\n",
      "10 X 2  =  20\n",
      "10 X 3  =  30\n",
      "10 X 4  =  40\n",
      "10 X 5  =  50\n",
      "10 X 6  =  60\n",
      "10 X 7  =  70\n",
      "10 X 8  =  80\n",
      "10 X 9  =  90\n",
      "10 X 10  =  100\n"
     ]
    }
   ],
   "source": [
    "for i in range(1,11):\n",
    "    for j in range(1,11):\n",
    "        print(i , \"X\",  j , \" = \", i*j)"
   ]
  },
  {
   "cell_type": "markdown",
   "metadata": {},
   "source": [
    "# Function"
   ]
  },
  {
   "cell_type": "code",
   "execution_count": 1,
   "metadata": {},
   "outputs": [],
   "source": [
    "import numpy as np\n",
    "def equation(x):\n",
    "    return 5*x+3\n",
    "def polyequation(x):\n",
    "    return 3 * x**3 + 2 * x**2 +9 * x \n",
    "\n",
    "def Trignometry(x):\n",
    "    return np.cos(x)"
   ]
  },
  {
   "cell_type": "code",
   "execution_count": 5,
   "metadata": {},
   "outputs": [
    {
     "data": {
      "text/plain": [
       "13"
      ]
     },
     "execution_count": 5,
     "metadata": {},
     "output_type": "execute_result"
    }
   ],
   "source": [
    "equation(2)"
   ]
  },
  {
   "cell_type": "code",
   "execution_count": 8,
   "metadata": {},
   "outputs": [
    {
     "data": {
      "text/plain": [
       "50"
      ]
     },
     "execution_count": 8,
     "metadata": {},
     "output_type": "execute_result"
    }
   ],
   "source": [
    "polyequation(2)"
   ]
  },
  {
   "cell_type": "code",
   "execution_count": 2,
   "metadata": {},
   "outputs": [
    {
     "data": {
      "text/plain": [
       "-0.4480736161291701"
      ]
     },
     "execution_count": 2,
     "metadata": {},
     "output_type": "execute_result"
    }
   ],
   "source": [
    "Trignometry(90)"
   ]
  },
  {
   "cell_type": "markdown",
   "metadata": {},
   "source": [
    "# Complex Data Type (LISTS)"
   ]
  },
  {
   "cell_type": "code",
   "execution_count": 1,
   "metadata": {},
   "outputs": [],
   "source": [
    "ar=[1,2,3,4,5,6]"
   ]
  },
  {
   "cell_type": "code",
   "execution_count": 2,
   "metadata": {},
   "outputs": [
    {
     "output_type": "execute_result",
     "data": {
      "text/plain": "list"
     },
     "metadata": {},
     "execution_count": 2
    }
   ],
   "source": [
    "type(ar)"
   ]
  },
  {
   "cell_type": "code",
   "execution_count": 3,
   "metadata": {
    "tags": []
   },
   "outputs": [
    {
     "output_type": "stream",
     "name": "stdout",
     "text": "2\n"
    }
   ],
   "source": [
    "print(ar[1])"
   ]
  },
  {
   "cell_type": "code",
   "execution_count": 4,
   "metadata": {
    "tags": []
   },
   "outputs": [
    {
     "output_type": "stream",
     "name": "stdout",
     "text": "[1, 2, 3]\n"
    }
   ],
   "source": [
    "print(ar[0:3])"
   ]
  },
  {
   "cell_type": "code",
   "execution_count": 5,
   "metadata": {
    "tags": []
   },
   "outputs": [
    {
     "output_type": "stream",
     "name": "stdout",
     "text": "6\n"
    }
   ],
   "source": [
    "print(ar[-1])"
   ]
  },
  {
   "cell_type": "markdown",
   "metadata": {},
   "source": [
    "# Complex Data Type (Dictionary)"
   ]
  },
  {
   "cell_type": "code",
   "execution_count": 8,
   "metadata": {},
   "outputs": [],
   "source": [
    "students={'ID':[7,7,9,1],'Name':['Umair','Khan','Muhammad']}"
   ]
  },
  {
   "cell_type": "code",
   "execution_count": 7,
   "metadata": {
    "tags": []
   },
   "outputs": [
    {
     "output_type": "stream",
     "name": "stdout",
     "text": "{'ID': [7, 7, 9, 1], 'Name': ['Umair', 'Khan', 'Muhammad']}\n"
    }
   ],
   "source": [
    "print(students)"
   ]
  },
  {
   "cell_type": "code",
   "execution_count": 11,
   "metadata": {},
   "outputs": [],
   "source": [
    "student =  {  \n",
    "    'ID'       : [7, 7, 9, 1], \n",
    "    'program'  : ['BSCS','BSCS','BSCS','BSCS','BSCS']\n",
    "}"
   ]
  },
  {
   "cell_type": "code",
   "execution_count": 12,
   "metadata": {
    "tags": []
   },
   "outputs": [
    {
     "output_type": "stream",
     "name": "stdout",
     "text": "{'ID': [7, 7, 9, 1], 'program': ['BSCS', 'BSCS', 'BSCS', 'BSCS', 'BSCS']}\n"
    }
   ],
   "source": [
    "print(student)"
   ]
  },
  {
   "cell_type": "markdown",
   "metadata": {},
   "source": [
    "# <center>TASK</center>"
   ]
  },
  {
   "cell_type": "markdown",
   "metadata": {},
   "source": [
    "# Question#1 "
   ]
  },
  {
   "cell_type": "code",
   "execution_count": 2,
   "metadata": {},
   "outputs": [
    {
     "name": "stdout",
     "output_type": "stream",
     "text": [
      "24.32899504706267\n"
     ]
    }
   ],
   "source": [
    "import numpy as np\n",
    "x = [ 76,84,69,92,58,89,73,97,85,77]\n",
    "x_sum=0\n",
    "bar_x=0\n",
    "for i in range(0,len(x)):\n",
    "    x_Sum=x_sum+x[i]\n",
    "bar_x=x_sum/10\n",
    "sigma=np.sqrt((x_Sum-bar_x)**2/len(x)-1)\n",
    "print(sigma)\n"
   ]
  },
  {
   "cell_type": "markdown",
   "metadata": {},
   "source": [
    "# Question#2 "
   ]
  },
  {
   "cell_type": "code",
   "execution_count": 11,
   "metadata": {},
   "outputs": [],
   "source": [
    "ar=[1,2,3,4,5,6,7,8,9,10,11,12,13,14,15,16,17,18,19,20]\n"
   ]
  },
  {
   "cell_type": "code",
   "execution_count": 7,
   "metadata": {},
   "outputs": [
    {
     "name": "stdout",
     "output_type": "stream",
     "text": [
      "[20, 19, 18, 17, 16, 15, 14, 13, 12, 11, 10, 9, 8, 7, 6, 5, 4, 3, 2, 1]\n"
     ]
    }
   ],
   "source": [
    "'''Print List'''\n",
    "print(ar)"
   ]
  },
  {
   "cell_type": "code",
   "execution_count": 12,
   "metadata": {},
   "outputs": [
    {
     "name": "stdout",
     "output_type": "stream",
     "text": [
      "2 4 6 8 10 12 14 16 18 20 "
     ]
    }
   ],
   "source": [
    "'''Print even numbers'''\n",
    "for i in ar:\n",
    "    if i%2==0:\n",
    "        print(i,end=\" \")\n",
    "  \n",
    "    "
   ]
  },
  {
   "cell_type": "code",
   "execution_count": 13,
   "metadata": {},
   "outputs": [
    {
     "name": "stdout",
     "output_type": "stream",
     "text": [
      "20\n"
     ]
    }
   ],
   "source": [
    "'''Print last element'''\n",
    "print(ar[-1])"
   ]
  },
  {
   "cell_type": "code",
   "execution_count": 14,
   "metadata": {},
   "outputs": [
    {
     "name": "stdout",
     "output_type": "stream",
     "text": [
      "18\n"
     ]
    }
   ],
   "source": [
    "'''Print 3rd last element'''\n",
    "print(ar[-3])"
   ]
  },
  {
   "cell_type": "code",
   "execution_count": 4,
   "metadata": {},
   "outputs": [
    {
     "name": "stdout",
     "output_type": "stream",
     "text": [
      "list: [20, 19, 18, 17, 16, 15, 14, 13, 12, 11, 10, 9, 8, 7, 6, 5, 4, 3, 2, 1]\n"
     ]
    }
   ],
   "source": [
    "'''Print Reverse List'''\n",
    "ar.reverse();\n",
    "print(\"list:\",ar)\n",
    " \n"
   ]
  },
  {
   "cell_type": "code",
   "execution_count": 5,
   "metadata": {},
   "outputs": [
    {
     "name": "stdout",
     "output_type": "stream",
     "text": [
      "[16, 15, 14, 13, 12, 11]\n"
     ]
    }
   ],
   "source": [
    "'''Print 4th index to 10th index'''\n",
    "print(ar[4:10])"
   ]
  },
  {
   "cell_type": "code",
   "execution_count": 3,
   "metadata": {},
   "outputs": [
    {
     "name": "stdout",
     "output_type": "stream",
     "text": [
      "[1, 2, 3, 4, 5, 6, 7, 8]\n"
     ]
    }
   ],
   "source": [
    "'''Print starting 8 elements'''\n",
    "print(ar[0:8])"
   ]
  },
  {
   "cell_type": "code",
   "execution_count": 16,
   "metadata": {},
   "outputs": [
    {
     "name": "stdout",
     "output_type": "stream",
     "text": [
      "[16, 17, 18, 19]\n"
     ]
    }
   ],
   "source": [
    "'''Print last 4 elements'''\n",
    "print(ar[-5:-1])"
   ]
  },
  {
   "cell_type": "markdown",
   "metadata": {},
   "source": [
    "# QUESTION#3"
   ]
  },
  {
   "cell_type": "code",
   "execution_count": 6,
   "metadata": {},
   "outputs": [],
   "source": [
    "import numpy as np\n",
    "def Solution(x):\n",
    "    eq=np.cos(x) - x**3\n",
    "    return eq"
   ]
  },
  {
   "cell_type": "code",
   "execution_count": 7,
   "metadata": {},
   "outputs": [
    {
     "data": {
      "text/plain": [
       "-729000.4480736161"
      ]
     },
     "execution_count": 7,
     "metadata": {},
     "output_type": "execute_result"
    }
   ],
   "source": [
    "Solution(90)"
   ]
  },
  {
   "cell_type": "code",
   "execution_count": null,
   "metadata": {},
   "outputs": [],
   "source": []
  }
 ],
 "metadata": {
  "kernelspec": {
   "display_name": "Python 3",
   "language": "python",
   "name": "python3"
  },
  "language_info": {
   "codemirror_mode": {
    "name": "ipython",
    "version": 3
   },
   "file_extension": ".py",
   "mimetype": "text/x-python",
   "name": "python",
   "nbconvert_exporter": "python",
   "pygments_lexer": "ipython3",
   "version": "3.8.3-final"
  }
 },
 "nbformat": 4,
 "nbformat_minor": 4
}
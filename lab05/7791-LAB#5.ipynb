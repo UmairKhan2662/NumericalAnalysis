{
 "cells": [
  {
   "cell_type": "code",
   "execution_count": null,
   "metadata": {},
   "outputs": [],
   "source": [
    "# Name= Muhammad Umair\n",
    "# Student ID=  7791\n",
    "# Class ID= 105032\n"
   ]
  },
  {
   "cell_type": "code",
   "execution_count": null,
   "metadata": {},
   "outputs": [],
   "source": [
    "#<center>TASK 04</center>\n"
   ]
  },
  {
   "cell_type": "code",
   "execution_count": 2,
   "metadata": {},
   "outputs": [],
   "source": [
    "import numpy as np\n",
    "import pandas as pd\n",
    "from scipy.misc import derivative\n",
    "import matplotlib.pyplot as plt"
   ]
  },
  {
   "cell_type": "markdown",
   "metadata": {},
   "source": [
    "### Addition"
   ]
  },
  {
   "cell_type": "code",
   "execution_count": 4,
   "metadata": {},
   "outputs": [
    {
     "name": "stdout",
     "output_type": "stream",
     "text": [
      "C = A + B\n",
      "\n",
      "C = 11 9 1 \n",
      "    4 7 26 \n",
      "    "
     ]
    }
   ],
   "source": [
    "A = [[5,2,3],\n",
    "     [1,2,7]]\n",
    "\n",
    "B = [[6,7,-2],\n",
    "     [3,5,19]]\n",
    "\n",
    "C = [[0 for x in range (3)]for y in range (len(A))]\n",
    "\n",
    "for i in range (len(A)):\n",
    "    for j in range (len(A[i])):\n",
    "        C[i][j] = A[i][j] + B [i][j]\n",
    "\n",
    "\n",
    "print('C = A + B\\n')\n",
    "print('C = ',end='')\n",
    "for i in range (len(A)):\n",
    "    for j in range (len(A[i])):\n",
    "        print(C[i][j], end = ' ')\n",
    "        \n",
    "    print('')\n",
    "    print('    ',end='')"
   ]
  },
  {
   "cell_type": "raw",
   "metadata": {},
   "source": [
    "# Substraction"
   ]
  },
  {
   "cell_type": "code",
   "execution_count": 5,
   "metadata": {},
   "outputs": [
    {
     "name": "stdout",
     "output_type": "stream",
     "text": [
      "C = A - B\n",
      "\n",
      "C = -1 -5 5 \n",
      "    -2 -3 -12 \n",
      "    "
     ]
    }
   ],
   "source": [
    "A = [[5,2,3],\n",
    "     [1,2,7]]\n",
    "\n",
    "B = [[6,7,-2],\n",
    "     [3,5,19]]\n",
    "\n",
    "C = [[0 for x in range (len(A[i]))]for y in range (len(A))]\n",
    "\n",
    "for i in range (len(A)):\n",
    "    for j in range (len(A[i])):\n",
    "        C[i][j] = A[i][j] - B [i][j]\n",
    "\n",
    "\n",
    "print('C = A - B\\n')\n",
    "print('C = ',end='')\n",
    "for i in range (len(A)):\n",
    "    for j in range (len(A[i])):\n",
    "        print(C[i][j], end = ' ')\n",
    "        \n",
    "    print('')\n",
    "    print('    ',end='')"
   ]
  },
  {
   "cell_type": "raw",
   "metadata": {},
   "source": [
    "# Multiplication"
   ]
  },
  {
   "cell_type": "code",
   "execution_count": 6,
   "metadata": {},
   "outputs": [
    {
     "name": "stdout",
     "output_type": "stream",
     "text": [
      "C = A * B\n",
      "\n",
      "C = 52 -56 \n",
      "    76 -88 \n",
      "    "
     ]
    }
   ],
   "source": [
    "A = [[5,2,3],\n",
    "     [1,2,7]]\n",
    "\n",
    "B = [[3,-2],\n",
    "     [5,-8],\n",
    "     [9,-10]]\n",
    "\n",
    "C = [[0 for x in range (len(B[i]))]for y in range (len(A))]\n",
    "e = 0\n",
    "for i in range (len(C)):\n",
    "    for j in range (len(C[i])):\n",
    "        C[i][j] = (A[i][e] * B [e][j]) + (A[i][e+1] * B[e+1][j]) + (A[i][e+2] * B[e+2][j])\n",
    "\n",
    "\n",
    "print('C = A * B\\n')\n",
    "print('C = ',end='')\n",
    "for i in range (len(C)):\n",
    "    for j in range (len(C[i])):\n",
    "        print(C[i][j], end = ' ')\n",
    "        \n",
    "    print('')\n",
    "    print('    ',end='')"
   ]
  },
  {
   "cell_type": "markdown",
   "metadata": {},
   "source": [
    "### Scalar Multiplication"
   ]
  },
  {
   "cell_type": "code",
   "execution_count": 7,
   "metadata": {},
   "outputs": [
    {
     "name": "stdout",
     "output_type": "stream",
     "text": [
      "C = 2A\n",
      "\n",
      "C = 10 4 6 \n",
      "    2 4 14 \n",
      "    "
     ]
    }
   ],
   "source": [
    "A = [[5,2,3],\n",
    "     [1,2,7]]\n",
    "\n",
    "C = [[0 for x in range (3)]for y in range (len(A))]\n",
    "\n",
    "for i in range (len(C)):\n",
    "    for j in range (len(C[i])):\n",
    "        C[i][j] = A[i][j] * 2\n",
    "\n",
    "\n",
    "print('C = 2A\\n')\n",
    "print('C = ',end='')\n",
    "for i in range (len(C)):\n",
    "    for j in range (len(C[i])):\n",
    "        print(C[i][j], end = ' ')\n",
    "        \n",
    "    print('')\n",
    "    print('    ',end='')"
   ]
  },
  {
   "cell_type": "raw",
   "metadata": {},
   "source": [
    "### Linear Combination"
   ]
  },
  {
   "cell_type": "code",
   "execution_count": 8,
   "metadata": {},
   "outputs": [
    {
     "name": "stdout",
     "output_type": "stream",
     "text": [
      "C = A + 2B - 0.5C\n",
      "\n",
      "C = 12.5 5.0 7.5 \n",
      "    2.5 5.0 17.5 \n",
      "    "
     ]
    }
   ],
   "source": [
    "A = [[5,2,3],\n",
    "     [1,2,7]]\n",
    "\n",
    "B = [[6,7,-2],\n",
    "     [3,5,19]]\n",
    "\n",
    "C = [[6,7,-2],\n",
    "     [3,5,19]]\n",
    "\n",
    "D = [[0 for x in range (len(B[i]))]for y in range (len(A))]\n",
    "\n",
    "for i in range (len(B)):\n",
    "    for j in range (len(B[i])):\n",
    "        B[i][j] = A[i][j] * 2\n",
    "\n",
    "for i in range (len(C)):\n",
    "    for j in range (len(C[i])):\n",
    "        C[i][j] = A[i][j] * 0.5\n",
    "\n",
    "for i in range (len(D)):\n",
    "    for j in range (len(D[i])):\n",
    "        D[i][j] = A[i][j] + B[i][j] - C[i][j]\n",
    "\n",
    "\n",
    "print('C = A + 2B - 0.5C\\n')\n",
    "print('C = ',end='')\n",
    "for i in range (len(D)):\n",
    "    for j in range (len(D[i])):\n",
    "        print(D[i][j], end = ' ')\n",
    "        \n",
    "    print('')\n",
    "    print('    ',end='')"
   ]
  },
  {
   "cell_type": "code",
   "execution_count": null,
   "metadata": {},
   "outputs": [],
   "source": []
  }
 ],
 "metadata": {
  "kernelspec": {
   "display_name": "Python 3",
   "language": "python",
   "name": "python3"
  },
  "language_info": {
   "codemirror_mode": {
    "name": "ipython",
    "version": 3
   },
   "file_extension": ".py",
   "mimetype": "text/x-python",
   "name": "python",
   "nbconvert_exporter": "python",
   "pygments_lexer": "ipython3",
   "version": "3.8.3"
  }
 },
 "nbformat": 4,
 "nbformat_minor": 4
}
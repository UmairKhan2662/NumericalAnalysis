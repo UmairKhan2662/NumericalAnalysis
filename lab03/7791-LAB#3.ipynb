{
 "cells": [
  {
   "cell_type": "markdown",
   "metadata": {},
   "source": [
    "# Name= Muhammad Umair Khan\n",
    "# Student ID=  7791\n",
    "# Class ID= 105032\n"
   ]
  },
  {
   "cell_type": "markdown",
   "metadata": {},
   "source": [
    "# <center>TASK</center>"
   ]
  },
  {
   "cell_type": "code",
   "execution_count": null,
   "metadata": {},
   "outputs": [],
   "source": [
    "import numpy as np\n",
    "import pandas as pd\n",
    "import matplotlib.pyplot as plt"
   ]
  },
  {
   "cell_type": "code",
   "execution_count": null,
   "metadata": {},
   "outputs": [],
   "source": [
    "def f(x):\n",
    "    return x*3 + x*2 + 2\n",
    "\n",
    "lstRoot = list()\n",
    "lstItr = list()\n",
    "lstA = list()\n",
    "lstB = list()\n",
    "root = 0\n",
    "Anstable = {\n",
    "'Iteration':lstItr,\n",
    "'Starting Interval': lstA,\n",
    "'Ending Interval' : lstB,\n",
    "'Root' : lstRoot\n",
    "}\n",
    "\n",
    "def RegularFalsi(x,y,tol):\n",
    "    a = x\n",
    "    b = y\n",
    "    Count = 0\n",
    "    while(np.abs(a-b)>= tol):\n",
    "        Count +=1\n",
    "        xr = (b * f(a) - a * f(b)) / (f(a) - f(b))\n",
    "        if (f(a) * f(xr) < 0):\n",
    "            a = xr\n",
    "        else:\n",
    "            b = xr\n",
    "        lstRoot.append(xr)\n",
    "        lstItr.append(Count)\n",
    "        lstA.append(a)\n",
    "        lstB.append(b)\n",
    "        root = c\n",
    "    plt.title('Bisection Method')\n",
    "    x = np.linspace(a,b)\n",
    "    plt.xlabel('x')\n",
    "    plt.ylabel('f(x)')\n",
    "    plt.scatter(root, f(root), color='r', marker='x')\n",
    "    plt.plot(x,f(x))\n",
    "    plt.show();\n",
    "\n",
    "Bisection(-20,20,0.01)\n",
    "pd.DataFrame(Anstable)"
   ]
  },
  {
   "cell_type": "code",
   "execution_count": null,
   "metadata": {},
   "outputs": [],
   "source": []
  }
 ],
 "metadata": {
  "kernelspec": {
   "display_name": "Python 3",
   "language": "python",
   "name": "python3"
  },
  "language_info": {
   "codemirror_mode": {
    "name": "ipython",
    "version": 3
   },
   "file_extension": ".py",
   "mimetype": "text/x-python",
   "name": "python",
   "nbconvert_exporter": "python",
   "pygments_lexer": "ipython3",
   "version": "3.8.3-final"
  }
 },
 "nbformat": 4,
 "nbformat_minor": 4
}